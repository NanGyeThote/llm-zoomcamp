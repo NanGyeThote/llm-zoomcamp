{
 "cells": [
  {
   "cell_type": "code",
   "execution_count": 26,
   "id": "5e97b865-380d-4920-a776-69af47c5ad42",
   "metadata": {},
   "outputs": [],
   "source": [
    "# Import Required Libs\n",
    "from qdrant_client import QdrantClient, models\n",
    "from fastembed import TextEmbedding\n",
    "import numpy as np\n",
    "import requests\n",
    "from qdrant_client.http.models import PointStruct, Filter\n",
    "from fastembed.embedding import DefaultEmbedding\n",
    "import numpy as np"
   ]
  },
  {
   "cell_type": "code",
   "execution_count": 11,
   "id": "2f597571-a943-428e-a44a-d1f123c3480c",
   "metadata": {},
   "outputs": [
    {
     "name": "stdout",
     "output_type": "stream",
     "text": [
      "Embedding vector length: 512\n",
      "Minimum value in vector: -0.11726373885183883\n"
     ]
    }
   ],
   "source": [
    "# Load the model\n",
    "model_handle = DefaultEmbedding(model_name=\"jinaai/jina-embeddings-v2-small-en\")\n",
    "\n",
    "# Embeding the query\n",
    "query = \"I just discovered the course. Can I join now?\"\n",
    "\n",
    "# Generate embedding\n",
    "embedding_vector = next(model_handle.embed(query))  # Returns a generator, use next()\n",
    "\n",
    "# Create PointStruct with payload\n",
    "query_point = models.PointStruct(\n",
    "    id=0,\n",
    "    vector=embedding_vector,\n",
    "    payload={\n",
    "        \"text\": query\n",
    "    }\n",
    ")\n",
    "\n",
    "# Print the minimum value in the vector\n",
    "print(\"Embedding vector length:\", len(embedding_vector))\n",
    "print(\"Minimum value in vector:\", min(embedding_vector))"
   ]
  },
  {
   "cell_type": "code",
   "execution_count": 14,
   "id": "04df8cc5-7c11-4045-9bbc-2ceddbc0b2e4",
   "metadata": {},
   "outputs": [
    {
     "name": "stdout",
     "output_type": "stream",
     "text": [
      "Cosine similarity: 0.9008528895674548\n"
     ]
    }
   ],
   "source": [
    "# Consine Similarity\n",
    "texts = [\n",
    "    \"I just discovered the course. Can I join now?\",\n",
    "    \"Can I still join the course after the start date?\"\n",
    "]\n",
    "vectors = list(model_handle.embed(texts))\n",
    "\n",
    "query_vector = vectors[0]\n",
    "doc_vector = vectors[1]\n",
    "\n",
    "# Since vectors are normalized, cosine similarity = dot product\n",
    "cosine_sim = np.dot(query_vector, doc_vector)\n",
    "print(\"Cosine similarity:\", cosine_sim)"
   ]
  },
  {
   "cell_type": "code",
   "execution_count": 16,
   "id": "11717e65-e29a-475f-a465-a1cee7163eeb",
   "metadata": {},
   "outputs": [
    {
     "name": "stdout",
     "output_type": "stream",
     "text": [
      "Cosine similarities: [0.76296847 0.81823782 0.80853974 0.7133079  0.73044992]\n",
      "Most similar document index: 1\n"
     ]
    }
   ],
   "source": [
    "# Documents\n",
    "documents = [{'text': \"Yes, even if you don't register, you're still eligible to submit the homeworks.\\nBe aware, however, that there will be deadlines for turning in the final projects. So don't leave everything for the last minute.\",\n",
    "  'section': 'General course-related questions',\n",
    "  'question': 'Course - Can I still join the course after the start date?',\n",
    "  'course': 'data-engineering-zoomcamp'},\n",
    " {'text': 'Yes, we will keep all the materials after the course finishes, so you can follow the course at your own pace after it finishes.\\nYou can also continue looking at the homeworks and continue preparing for the next cohort. I guess you can also start working on your final capstone project.',\n",
    "  'section': 'General course-related questions',\n",
    "  'question': 'Course - Can I follow the course after it finishes?',\n",
    "  'course': 'data-engineering-zoomcamp'},\n",
    " {'text': \"The purpose of this document is to capture frequently asked technical questions\\nThe exact day and hour of the course will be 15th Jan 2024 at 17h00. The course will start with the first  “Office Hours'' live.1\\nSubscribe to course public Google Calendar (it works from Desktop only).\\nRegister before the course starts using this link.\\nJoin the course Telegram channel with announcements.\\nDon’t forget to register in DataTalks.Club's Slack and join the channel.\",\n",
    "  'section': 'General course-related questions',\n",
    "  'question': 'Course - When will the course start?',\n",
    "  'course': 'data-engineering-zoomcamp'},\n",
    " {'text': 'You can start by installing and setting up all the dependencies and requirements:\\nGoogle cloud account\\nGoogle Cloud SDK\\nPython 3 (installed with Anaconda)\\nTerraform\\nGit\\nLook over the prerequisites and syllabus to see if you are comfortable with these subjects.',\n",
    "  'section': 'General course-related questions',\n",
    "  'question': 'Course - What can I do before the course starts?',\n",
    "  'course': 'data-engineering-zoomcamp'},\n",
    " {'text': 'Star the repo! Share it with friends if you find it useful ❣️\\nCreate a PR if you see you can improve the text or the structure of the repository.',\n",
    "  'section': 'General course-related questions',\n",
    "  'question': 'How can we contribute to the course?',\n",
    "  'course': 'data-engineering-zoomcamp'}]\n",
    "\n",
    "# Embed query and documents\n",
    "doc_texts = [doc['text'] for doc in documents]\n",
    "doc_vectors = np.array(list(model_handle.embed(doc_texts)))\n",
    "\n",
    "# Compute cosine similarities\n",
    "similarities = doc_vectors.dot(query_vector)\n",
    "\n",
    "# Find the index with highest similarity\n",
    "best_index = np.argmax(similarities)\n",
    "\n",
    "print(\"Cosine similarities:\", similarities)\n",
    "print(\"Most similar document index:\", best_index)"
   ]
  },
  {
   "cell_type": "code",
   "execution_count": 22,
   "id": "837f4c24-52d7-4f87-ae33-5f77c1ff5e9b",
   "metadata": {},
   "outputs": [
    {
     "name": "stdout",
     "output_type": "stream",
     "text": [
      "Cosine similarities for each document: [0.85145432 0.84365942 0.8408287  0.7755158  0.80860078]\n",
      "Most similar document index: 0\n"
     ]
    }
   ],
   "source": [
    "# Full text\n",
    "full_texts = [doc['question'] + ' ' + doc['text'] for doc in documents]\n",
    "\n",
    "# Query Embedding\n",
    "query_embedding = list(model_handle.embed([query]))[0]\n",
    "\n",
    "full_text_embeddings = np.array(list(model_handle.embed(full_texts)))\n",
    "cosine_similarities = full_text_embeddings.dot(query_embedding)\n",
    "best_doc_index = np.argmax(cosine_similarities)\n",
    "\n",
    "print(\"Cosine similarities for each document:\", cosine_similarities)\n",
    "print(\"Most similar document index:\", best_doc_index)"
   ]
  },
  {
   "cell_type": "code",
   "execution_count": 31,
   "id": "56c2ac4d-318f-46cb-9837-6f38d1d4564f",
   "metadata": {},
   "outputs": [
    {
     "name": "stdout",
     "output_type": "stream",
     "text": [
      "Embedding dimension: 384\n"
     ]
    }
   ],
   "source": [
    "# Smallest Model\n",
    "small_model = DefaultEmbedding(model_name=\"BAAI/bge-small-en\")\n",
    "\n",
    "# Example embedding\n",
    "vec = list(small_model.embed([\"Test sentence\"]))[0]\n",
    "print(\"Embedding dimension:\", len(vec)) \n",
    "EMBEDDING_DIMENSIONALITY = len(vec)"
   ]
  },
  {
   "cell_type": "code",
   "execution_count": 27,
   "id": "7d73d0e9-690b-45dc-91ad-41abd086fc2e",
   "metadata": {},
   "outputs": [],
   "source": [
    "# No.6\n",
    "# Step 1: Download raw documents\n",
    "docs_url = 'https://github.com/alexeygrigorev/llm-rag-workshop/raw/main/notebooks/documents.json'\n",
    "docs_response = requests.get(docs_url)\n",
    "documents_raw = docs_response.json()"
   ]
  },
  {
   "cell_type": "code",
   "execution_count": 28,
   "id": "29b855f9-c0e6-4c9d-af3f-5623b1e24048",
   "metadata": {},
   "outputs": [],
   "source": [
    "documents = []\n",
    "for course in documents_raw:\n",
    "    if course['course'] != 'machine-learning-zoomcamp':\n",
    "        continue\n",
    "    for doc in course['documents']:\n",
    "        doc['course'] = course['course']\n",
    "        documents.append(doc)"
   ]
  },
  {
   "cell_type": "code",
   "execution_count": 29,
   "id": "83e693b7-0fa4-41d9-aae2-610c6ec14f00",
   "metadata": {},
   "outputs": [],
   "source": [
    "model_handle = DefaultEmbedding(model_name=\"BAAI/bge-small-en\")"
   ]
  },
  {
   "cell_type": "code",
   "execution_count": 32,
   "id": "3a2fde70-0593-4934-97f4-65858b587359",
   "metadata": {},
   "outputs": [
    {
     "data": {
      "text/plain": [
       "True"
      ]
     },
     "execution_count": 32,
     "metadata": {},
     "output_type": "execute_result"
    }
   ],
   "source": [
    "client = QdrantClient()\n",
    "\n",
    "collection_name = \"ml_zoomcamp_faq\"\n",
    "\n",
    "client = QdrantClient()\n",
    "\n",
    "client.create_collection(\n",
    "    collection_name=collection_name,\n",
    "    vectors_config=models.VectorParams(\n",
    "        size=EMBEDDING_DIMENSIONALITY,\n",
    "        distance=models.Distance.COSINE\n",
    "    )\n",
    ")"
   ]
  },
  {
   "cell_type": "code",
   "execution_count": 33,
   "id": "5f706128-01fe-495e-bdc4-53f6e40cf97b",
   "metadata": {},
   "outputs": [],
   "source": [
    "points = []\n",
    "for idx, doc in enumerate(documents):\n",
    "    full_text = doc['question'] + \" \" + doc['text']\n",
    "    vector = list(model_handle.embed([full_text]))[0]\n",
    "    point = PointStruct(\n",
    "        id=idx,\n",
    "        vector=vector,\n",
    "        payload={\n",
    "            \"question\": doc['question'],\n",
    "            \"text\": doc['text'],\n",
    "            \"course\": doc['course']\n",
    "        }\n",
    "    )\n",
    "    points.append(point)"
   ]
  },
  {
   "cell_type": "code",
   "execution_count": 34,
   "id": "2a291a5f-082c-414a-a35b-f586a3d56265",
   "metadata": {},
   "outputs": [
    {
     "data": {
      "text/plain": [
       "UpdateResult(operation_id=0, status=<UpdateStatus.COMPLETED: 'completed'>)"
      ]
     },
     "execution_count": 34,
     "metadata": {},
     "output_type": "execute_result"
    }
   ],
   "source": [
    "client.upsert(collection_name=collection_name, points=points)"
   ]
  },
  {
   "cell_type": "code",
   "execution_count": 35,
   "id": "829b839d-5133-4789-a3f0-c55b77c5c08a",
   "metadata": {},
   "outputs": [
    {
     "name": "stderr",
     "output_type": "stream",
     "text": [
      "/tmp/ipykernel_19445/1145625625.py:4: DeprecationWarning: `search` method is deprecated and will be removed in the future. Use `query_points` instead.\n",
      "  results = client.search(\n"
     ]
    }
   ],
   "source": [
    "query_text = \"I just discovered the course. Can I join now?\"\n",
    "query_vector = list(model_handle.embed([query_text]))[0]\n",
    "\n",
    "results = client.search(\n",
    "    collection_name=collection_name,\n",
    "    query_vector=query_vector,\n",
    "    limit=1,\n",
    "    with_payload=True\n",
    ")"
   ]
  },
  {
   "cell_type": "code",
   "execution_count": 36,
   "id": "952ad45c-0518-494e-acd2-110980e925f4",
   "metadata": {},
   "outputs": [
    {
     "name": "stdout",
     "output_type": "stream",
     "text": [
      "Highest score from search results: 0.8703172\n"
     ]
    }
   ],
   "source": [
    "print(\"Highest score from search results:\", results[0].score)"
   ]
  }
 ],
 "metadata": {
  "kernelspec": {
   "display_name": "Python 3 (ipykernel)",
   "language": "python",
   "name": "python3"
  },
  "language_info": {
   "codemirror_mode": {
    "name": "ipython",
    "version": 3
   },
   "file_extension": ".py",
   "mimetype": "text/x-python",
   "name": "python",
   "nbconvert_exporter": "python",
   "pygments_lexer": "ipython3",
   "version": "3.12.1"
  }
 },
 "nbformat": 4,
 "nbformat_minor": 5
}
